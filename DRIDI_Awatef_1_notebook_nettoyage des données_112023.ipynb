{
 "cells": [
  {
   "cell_type": "markdown",
   "id": "39cc1783",
   "metadata": {},
   "source": [
    "<div style=\" background-color: RGB(0,114,200);\" >\n",
    "<h1 style=\"margin: auto; padding: 20px 0; color:#fff; text-align: center\">PROJET 06 DATA ANALYST</h1>\n",
    "<h2 style=\"margin: auto; padding: 20px 0; color:#fff; text-align: center\">Analysez les ventes d'une librairie avec R ou Python\n",
    "<h3 style=\"margin: auto; padding: 20px 0; color:#fff; text-align: center\">PARTIE NETTOYAGE DES DONNEES\n",
    "</h2>\n",
    "</div>"
   ]
  },
  {
   "cell_type": "code",
   "execution_count": 74,
   "id": "a3dc508f",
   "metadata": {},
   "outputs": [],
   "source": [
    "import pandas as pd\n",
    "import matplotlib.pyplot as plt\n",
    "import numpy as np"
   ]
  },
  {
   "cell_type": "markdown",
   "id": "f7f6e51a",
   "metadata": {},
   "source": [
    "<div style=\"border: 1px solid RGB(0,150,250);\" >\n",
    "<h2 style=\"margin: auto; padding: 20px; color: RGB(0,150,250); \">1 - Preparation du fichier customers</h3>\n",
    "</div>"
   ]
  },
  {
   "cell_type": "code",
   "execution_count": 75,
   "id": "cd497a2f",
   "metadata": {},
   "outputs": [
    {
     "data": {
      "text/html": [
       "<div>\n",
       "<style scoped>\n",
       "    .dataframe tbody tr th:only-of-type {\n",
       "        vertical-align: middle;\n",
       "    }\n",
       "\n",
       "    .dataframe tbody tr th {\n",
       "        vertical-align: top;\n",
       "    }\n",
       "\n",
       "    .dataframe thead th {\n",
       "        text-align: right;\n",
       "    }\n",
       "</style>\n",
       "<table border=\"1\" class=\"dataframe\">\n",
       "  <thead>\n",
       "    <tr style=\"text-align: right;\">\n",
       "      <th></th>\n",
       "      <th>client_id</th>\n",
       "      <th>sex</th>\n",
       "      <th>birth</th>\n",
       "    </tr>\n",
       "  </thead>\n",
       "  <tbody>\n",
       "    <tr>\n",
       "      <th>0</th>\n",
       "      <td>c_4410</td>\n",
       "      <td>f</td>\n",
       "      <td>1967</td>\n",
       "    </tr>\n",
       "    <tr>\n",
       "      <th>1</th>\n",
       "      <td>c_7839</td>\n",
       "      <td>f</td>\n",
       "      <td>1975</td>\n",
       "    </tr>\n",
       "    <tr>\n",
       "      <th>2</th>\n",
       "      <td>c_1699</td>\n",
       "      <td>f</td>\n",
       "      <td>1984</td>\n",
       "    </tr>\n",
       "    <tr>\n",
       "      <th>3</th>\n",
       "      <td>c_5961</td>\n",
       "      <td>f</td>\n",
       "      <td>1962</td>\n",
       "    </tr>\n",
       "    <tr>\n",
       "      <th>4</th>\n",
       "      <td>c_5320</td>\n",
       "      <td>m</td>\n",
       "      <td>1943</td>\n",
       "    </tr>\n",
       "  </tbody>\n",
       "</table>\n",
       "</div>"
      ],
      "text/plain": [
       "  client_id sex  birth\n",
       "0    c_4410   f   1967\n",
       "1    c_7839   f   1975\n",
       "2    c_1699   f   1984\n",
       "3    c_5961   f   1962\n",
       "4    c_5320   m   1943"
      ]
     },
     "execution_count": 75,
     "metadata": {},
     "output_type": "execute_result"
    }
   ],
   "source": [
    "# Chargement du fichier CSV 'customers.csv' \n",
    "df_customers=pd.read_csv('customers.csv', delimiter=';', encoding='utf-8')\n",
    "df_customers.head()"
   ]
  },
  {
   "cell_type": "code",
   "execution_count": 76,
   "id": "3d66fd17",
   "metadata": {
    "scrolled": true
   },
   "outputs": [
    {
     "name": "stdout",
     "output_type": "stream",
     "text": [
      "<class 'pandas.core.frame.DataFrame'>\n",
      "RangeIndex: 8621 entries, 0 to 8620\n",
      "Data columns (total 3 columns):\n",
      " #   Column     Non-Null Count  Dtype \n",
      "---  ------     --------------  ----- \n",
      " 0   client_id  8621 non-null   object\n",
      " 1   sex        8621 non-null   object\n",
      " 2   birth      8621 non-null   int64 \n",
      "dtypes: int64(1), object(2)\n",
      "memory usage: 202.2+ KB\n"
     ]
    }
   ],
   "source": [
    "df_customers.info()"
   ]
  },
  {
   "cell_type": "code",
   "execution_count": 77,
   "id": "0edb95fc",
   "metadata": {},
   "outputs": [
    {
     "data": {
      "text/plain": [
       "0"
      ]
     },
     "execution_count": 77,
     "metadata": {},
     "output_type": "execute_result"
    }
   ],
   "source": [
    "#verivication de l'unicité du PK\n",
    "df_customers.duplicated(subset=['client_id']).sum()"
   ]
  },
  {
   "cell_type": "code",
   "execution_count": 78,
   "id": "2ba98430",
   "metadata": {},
   "outputs": [
    {
     "data": {
      "text/html": [
       "<div>\n",
       "<style scoped>\n",
       "    .dataframe tbody tr th:only-of-type {\n",
       "        vertical-align: middle;\n",
       "    }\n",
       "\n",
       "    .dataframe tbody tr th {\n",
       "        vertical-align: top;\n",
       "    }\n",
       "\n",
       "    .dataframe thead th {\n",
       "        text-align: right;\n",
       "    }\n",
       "</style>\n",
       "<table border=\"1\" class=\"dataframe\">\n",
       "  <thead>\n",
       "    <tr style=\"text-align: right;\">\n",
       "      <th></th>\n",
       "      <th>client_id</th>\n",
       "      <th>genre</th>\n",
       "      <th>birth</th>\n",
       "    </tr>\n",
       "  </thead>\n",
       "  <tbody>\n",
       "    <tr>\n",
       "      <th>0</th>\n",
       "      <td>c_4410</td>\n",
       "      <td>f</td>\n",
       "      <td>1967</td>\n",
       "    </tr>\n",
       "    <tr>\n",
       "      <th>1</th>\n",
       "      <td>c_7839</td>\n",
       "      <td>f</td>\n",
       "      <td>1975</td>\n",
       "    </tr>\n",
       "    <tr>\n",
       "      <th>2</th>\n",
       "      <td>c_1699</td>\n",
       "      <td>f</td>\n",
       "      <td>1984</td>\n",
       "    </tr>\n",
       "    <tr>\n",
       "      <th>3</th>\n",
       "      <td>c_5961</td>\n",
       "      <td>f</td>\n",
       "      <td>1962</td>\n",
       "    </tr>\n",
       "    <tr>\n",
       "      <th>4</th>\n",
       "      <td>c_5320</td>\n",
       "      <td>m</td>\n",
       "      <td>1943</td>\n",
       "    </tr>\n",
       "  </tbody>\n",
       "</table>\n",
       "</div>"
      ],
      "text/plain": [
       "  client_id genre  birth\n",
       "0    c_4410     f   1967\n",
       "1    c_7839     f   1975\n",
       "2    c_1699     f   1984\n",
       "3    c_5961     f   1962\n",
       "4    c_5320     m   1943"
      ]
     },
     "execution_count": 78,
     "metadata": {},
     "output_type": "execute_result"
    }
   ],
   "source": [
    "#renommer la colonne sex par genre\n",
    "df_customers.rename(columns={\"sex\": \"genre\"},inplace=True)\n",
    "df_customers.head()"
   ]
  },
  {
   "cell_type": "code",
   "execution_count": 79,
   "id": "95cecb3a",
   "metadata": {},
   "outputs": [
    {
     "data": {
      "text/html": [
       "<div>\n",
       "<style scoped>\n",
       "    .dataframe tbody tr th:only-of-type {\n",
       "        vertical-align: middle;\n",
       "    }\n",
       "\n",
       "    .dataframe tbody tr th {\n",
       "        vertical-align: top;\n",
       "    }\n",
       "\n",
       "    .dataframe thead th {\n",
       "        text-align: right;\n",
       "    }\n",
       "</style>\n",
       "<table border=\"1\" class=\"dataframe\">\n",
       "  <thead>\n",
       "    <tr style=\"text-align: right;\">\n",
       "      <th></th>\n",
       "      <th>client_id</th>\n",
       "      <th>genre</th>\n",
       "      <th>birth</th>\n",
       "      <th>age</th>\n",
       "    </tr>\n",
       "  </thead>\n",
       "  <tbody>\n",
       "    <tr>\n",
       "      <th>0</th>\n",
       "      <td>c_4410</td>\n",
       "      <td>f</td>\n",
       "      <td>1967</td>\n",
       "      <td>56</td>\n",
       "    </tr>\n",
       "    <tr>\n",
       "      <th>1</th>\n",
       "      <td>c_7839</td>\n",
       "      <td>f</td>\n",
       "      <td>1975</td>\n",
       "      <td>48</td>\n",
       "    </tr>\n",
       "    <tr>\n",
       "      <th>2</th>\n",
       "      <td>c_1699</td>\n",
       "      <td>f</td>\n",
       "      <td>1984</td>\n",
       "      <td>39</td>\n",
       "    </tr>\n",
       "    <tr>\n",
       "      <th>3</th>\n",
       "      <td>c_5961</td>\n",
       "      <td>f</td>\n",
       "      <td>1962</td>\n",
       "      <td>61</td>\n",
       "    </tr>\n",
       "    <tr>\n",
       "      <th>4</th>\n",
       "      <td>c_5320</td>\n",
       "      <td>m</td>\n",
       "      <td>1943</td>\n",
       "      <td>80</td>\n",
       "    </tr>\n",
       "  </tbody>\n",
       "</table>\n",
       "</div>"
      ],
      "text/plain": [
       "  client_id genre  birth  age\n",
       "0    c_4410     f   1967   56\n",
       "1    c_7839     f   1975   48\n",
       "2    c_1699     f   1984   39\n",
       "3    c_5961     f   1962   61\n",
       "4    c_5320     m   1943   80"
      ]
     },
     "execution_count": 79,
     "metadata": {},
     "output_type": "execute_result"
    }
   ],
   "source": [
    "#calcul de l'age sur une colonne 'age'\n",
    "df_customers['age']= 2023 - df_customers['birth']\n",
    "df_customers.head()"
   ]
  },
  {
   "cell_type": "markdown",
   "id": "cd2ea0b2",
   "metadata": {},
   "source": [
    "<div style=\"border: 1px solid RGB(0,150,250);\" >\n",
    "<h2 style=\"margin: auto; padding: 20px; color: RGB(0,150,250); \">2 - Preparation du fichier products</h3>\n",
    "</div>"
   ]
  },
  {
   "cell_type": "code",
   "execution_count": 80,
   "id": "952200c6",
   "metadata": {},
   "outputs": [
    {
     "data": {
      "text/html": [
       "<div>\n",
       "<style scoped>\n",
       "    .dataframe tbody tr th:only-of-type {\n",
       "        vertical-align: middle;\n",
       "    }\n",
       "\n",
       "    .dataframe tbody tr th {\n",
       "        vertical-align: top;\n",
       "    }\n",
       "\n",
       "    .dataframe thead th {\n",
       "        text-align: right;\n",
       "    }\n",
       "</style>\n",
       "<table border=\"1\" class=\"dataframe\">\n",
       "  <thead>\n",
       "    <tr style=\"text-align: right;\">\n",
       "      <th></th>\n",
       "      <th>id_prod</th>\n",
       "      <th>price</th>\n",
       "      <th>categ</th>\n",
       "    </tr>\n",
       "  </thead>\n",
       "  <tbody>\n",
       "    <tr>\n",
       "      <th>0</th>\n",
       "      <td>0_1421</td>\n",
       "      <td>19.99</td>\n",
       "      <td>0</td>\n",
       "    </tr>\n",
       "    <tr>\n",
       "      <th>1</th>\n",
       "      <td>0_1368</td>\n",
       "      <td>5.13</td>\n",
       "      <td>0</td>\n",
       "    </tr>\n",
       "    <tr>\n",
       "      <th>2</th>\n",
       "      <td>0_731</td>\n",
       "      <td>17.99</td>\n",
       "      <td>0</td>\n",
       "    </tr>\n",
       "    <tr>\n",
       "      <th>3</th>\n",
       "      <td>1_587</td>\n",
       "      <td>4.99</td>\n",
       "      <td>1</td>\n",
       "    </tr>\n",
       "    <tr>\n",
       "      <th>4</th>\n",
       "      <td>0_1507</td>\n",
       "      <td>3.99</td>\n",
       "      <td>0</td>\n",
       "    </tr>\n",
       "  </tbody>\n",
       "</table>\n",
       "</div>"
      ],
      "text/plain": [
       "  id_prod  price  categ\n",
       "0  0_1421  19.99      0\n",
       "1  0_1368   5.13      0\n",
       "2   0_731  17.99      0\n",
       "3   1_587   4.99      1\n",
       "4  0_1507   3.99      0"
      ]
     },
     "execution_count": 80,
     "metadata": {},
     "output_type": "execute_result"
    }
   ],
   "source": [
    "#chargement du fichier CSV 'products.csv' \n",
    "df_products=pd.read_csv('products.csv', delimiter=';', encoding='utf-8')  \n",
    "df_products.head()"
   ]
  },
  {
   "cell_type": "code",
   "execution_count": 81,
   "id": "b724478c",
   "metadata": {
    "scrolled": true
   },
   "outputs": [
    {
     "name": "stdout",
     "output_type": "stream",
     "text": [
      "<class 'pandas.core.frame.DataFrame'>\n",
      "RangeIndex: 3286 entries, 0 to 3285\n",
      "Data columns (total 3 columns):\n",
      " #   Column   Non-Null Count  Dtype  \n",
      "---  ------   --------------  -----  \n",
      " 0   id_prod  3286 non-null   object \n",
      " 1   price    3286 non-null   float64\n",
      " 2   categ    3286 non-null   int64  \n",
      "dtypes: float64(1), int64(1), object(1)\n",
      "memory usage: 77.1+ KB\n"
     ]
    }
   ],
   "source": [
    "#verification des nombres de lignes ,types et nobre de valeurs non-null pour chaque colonne\n",
    "df_products.info()"
   ]
  },
  {
   "cell_type": "code",
   "execution_count": 82,
   "id": "a63eb6f3",
   "metadata": {},
   "outputs": [
    {
     "data": {
      "text/plain": [
       "0"
      ]
     },
     "execution_count": 82,
     "metadata": {},
     "output_type": "execute_result"
    }
   ],
   "source": [
    "#verivication de l'unicité du PK\n",
    "df_products.duplicated(subset=['id_prod']).sum()"
   ]
  },
  {
   "cell_type": "markdown",
   "id": "3e08af70",
   "metadata": {},
   "source": [
    "<div style=\"border: 1px solid RGB(0,150,250);\" >\n",
    "<h2 style=\"margin: auto; padding: 20px; color: RGB(0,150,250); \">3 - Preparation du fichier Transactions</h3>\n",
    "</div>"
   ]
  },
  {
   "cell_type": "code",
   "execution_count": 83,
   "id": "aaa0b27e",
   "metadata": {},
   "outputs": [
    {
     "data": {
      "text/html": [
       "<div>\n",
       "<style scoped>\n",
       "    .dataframe tbody tr th:only-of-type {\n",
       "        vertical-align: middle;\n",
       "    }\n",
       "\n",
       "    .dataframe tbody tr th {\n",
       "        vertical-align: top;\n",
       "    }\n",
       "\n",
       "    .dataframe thead th {\n",
       "        text-align: right;\n",
       "    }\n",
       "</style>\n",
       "<table border=\"1\" class=\"dataframe\">\n",
       "  <thead>\n",
       "    <tr style=\"text-align: right;\">\n",
       "      <th></th>\n",
       "      <th>id_prod</th>\n",
       "      <th>date</th>\n",
       "      <th>session_id</th>\n",
       "      <th>client_id</th>\n",
       "    </tr>\n",
       "  </thead>\n",
       "  <tbody>\n",
       "    <tr>\n",
       "      <th>0</th>\n",
       "      <td>0_1259</td>\n",
       "      <td>2021-03-01 00:01:07.843138</td>\n",
       "      <td>s_1</td>\n",
       "      <td>c_329</td>\n",
       "    </tr>\n",
       "    <tr>\n",
       "      <th>1</th>\n",
       "      <td>0_1390</td>\n",
       "      <td>2021-03-01 00:02:26.047414</td>\n",
       "      <td>s_2</td>\n",
       "      <td>c_664</td>\n",
       "    </tr>\n",
       "    <tr>\n",
       "      <th>2</th>\n",
       "      <td>0_1352</td>\n",
       "      <td>2021-03-01 00:02:38.311413</td>\n",
       "      <td>s_3</td>\n",
       "      <td>c_580</td>\n",
       "    </tr>\n",
       "    <tr>\n",
       "      <th>3</th>\n",
       "      <td>0_1458</td>\n",
       "      <td>2021-03-01 00:04:54.559692</td>\n",
       "      <td>s_4</td>\n",
       "      <td>c_7912</td>\n",
       "    </tr>\n",
       "    <tr>\n",
       "      <th>4</th>\n",
       "      <td>0_1358</td>\n",
       "      <td>2021-03-01 00:05:18.801198</td>\n",
       "      <td>s_5</td>\n",
       "      <td>c_2033</td>\n",
       "    </tr>\n",
       "  </tbody>\n",
       "</table>\n",
       "</div>"
      ],
      "text/plain": [
       "  id_prod                        date session_id client_id\n",
       "0  0_1259  2021-03-01 00:01:07.843138        s_1     c_329\n",
       "1  0_1390  2021-03-01 00:02:26.047414        s_2     c_664\n",
       "2  0_1352  2021-03-01 00:02:38.311413        s_3     c_580\n",
       "3  0_1458  2021-03-01 00:04:54.559692        s_4    c_7912\n",
       "4  0_1358  2021-03-01 00:05:18.801198        s_5    c_2033"
      ]
     },
     "execution_count": 83,
     "metadata": {},
     "output_type": "execute_result"
    }
   ],
   "source": [
    "#chargement du fichier CSV 'Transactions.csv' \n",
    "df_transactions=pd.read_csv('Transactions.csv', delimiter=';', encoding='utf-8')\n",
    "df_transactions.head()"
   ]
  },
  {
   "cell_type": "code",
   "execution_count": 84,
   "id": "25a39a68",
   "metadata": {
    "scrolled": true
   },
   "outputs": [
    {
     "name": "stdout",
     "output_type": "stream",
     "text": [
      "<class 'pandas.core.frame.DataFrame'>\n",
      "RangeIndex: 687534 entries, 0 to 687533\n",
      "Data columns (total 4 columns):\n",
      " #   Column      Non-Null Count   Dtype \n",
      "---  ------      --------------   ----- \n",
      " 0   id_prod     687534 non-null  object\n",
      " 1   date        687534 non-null  object\n",
      " 2   session_id  687534 non-null  object\n",
      " 3   client_id   687534 non-null  object\n",
      "dtypes: object(4)\n",
      "memory usage: 21.0+ MB\n"
     ]
    }
   ],
   "source": [
    "#verification des nombres de lignes ,types et nobre de valeurs non-null pour chaque colonne\n",
    "df_transactions.info()"
   ]
  },
  {
   "cell_type": "code",
   "execution_count": 85,
   "id": "e72a2b78",
   "metadata": {},
   "outputs": [
    {
     "data": {
      "text/html": [
       "<div>\n",
       "<style scoped>\n",
       "    .dataframe tbody tr th:only-of-type {\n",
       "        vertical-align: middle;\n",
       "    }\n",
       "\n",
       "    .dataframe tbody tr th {\n",
       "        vertical-align: top;\n",
       "    }\n",
       "\n",
       "    .dataframe thead th {\n",
       "        text-align: right;\n",
       "    }\n",
       "</style>\n",
       "<table border=\"1\" class=\"dataframe\">\n",
       "  <thead>\n",
       "    <tr style=\"text-align: right;\">\n",
       "      <th></th>\n",
       "      <th>id_prod</th>\n",
       "      <th>date</th>\n",
       "      <th>session_id</th>\n",
       "      <th>client_id</th>\n",
       "      <th>day</th>\n",
       "    </tr>\n",
       "  </thead>\n",
       "  <tbody>\n",
       "    <tr>\n",
       "      <th>0</th>\n",
       "      <td>0_1259</td>\n",
       "      <td>2021-03-01 00:01:07.843138</td>\n",
       "      <td>s_1</td>\n",
       "      <td>c_329</td>\n",
       "      <td>2021-03-01</td>\n",
       "    </tr>\n",
       "    <tr>\n",
       "      <th>1</th>\n",
       "      <td>0_1390</td>\n",
       "      <td>2021-03-01 00:02:26.047414</td>\n",
       "      <td>s_2</td>\n",
       "      <td>c_664</td>\n",
       "      <td>2021-03-01</td>\n",
       "    </tr>\n",
       "    <tr>\n",
       "      <th>2</th>\n",
       "      <td>0_1352</td>\n",
       "      <td>2021-03-01 00:02:38.311413</td>\n",
       "      <td>s_3</td>\n",
       "      <td>c_580</td>\n",
       "      <td>2021-03-01</td>\n",
       "    </tr>\n",
       "    <tr>\n",
       "      <th>3</th>\n",
       "      <td>0_1458</td>\n",
       "      <td>2021-03-01 00:04:54.559692</td>\n",
       "      <td>s_4</td>\n",
       "      <td>c_7912</td>\n",
       "      <td>2021-03-01</td>\n",
       "    </tr>\n",
       "    <tr>\n",
       "      <th>4</th>\n",
       "      <td>0_1358</td>\n",
       "      <td>2021-03-01 00:05:18.801198</td>\n",
       "      <td>s_5</td>\n",
       "      <td>c_2033</td>\n",
       "      <td>2021-03-01</td>\n",
       "    </tr>\n",
       "  </tbody>\n",
       "</table>\n",
       "</div>"
      ],
      "text/plain": [
       "  id_prod                        date session_id client_id         day\n",
       "0  0_1259  2021-03-01 00:01:07.843138        s_1     c_329  2021-03-01\n",
       "1  0_1390  2021-03-01 00:02:26.047414        s_2     c_664  2021-03-01\n",
       "2  0_1352  2021-03-01 00:02:38.311413        s_3     c_580  2021-03-01\n",
       "3  0_1458  2021-03-01 00:04:54.559692        s_4    c_7912  2021-03-01\n",
       "4  0_1358  2021-03-01 00:05:18.801198        s_5    c_2033  2021-03-01"
      ]
     },
     "execution_count": 85,
     "metadata": {},
     "output_type": "execute_result"
    }
   ],
   "source": [
    "#création d'une nouvelle colonne 'day' dans le DataFrame df_transactions en transforfant la variable 'date' via la fonction lambda\n",
    "df_transactions['day']=df_transactions.date.apply(lambda x: x[:10])\n",
    "df_transactions.head()"
   ]
  },
  {
   "cell_type": "code",
   "execution_count": 86,
   "id": "5bc6b2fe",
   "metadata": {},
   "outputs": [
    {
     "name": "stdout",
     "output_type": "stream",
     "text": [
      "<class 'pandas.core.frame.DataFrame'>\n",
      "RangeIndex: 687534 entries, 0 to 687533\n",
      "Data columns (total 5 columns):\n",
      " #   Column      Non-Null Count   Dtype         \n",
      "---  ------      --------------   -----         \n",
      " 0   id_prod     687534 non-null  object        \n",
      " 1   date        687534 non-null  object        \n",
      " 2   session_id  687534 non-null  object        \n",
      " 3   client_id   687534 non-null  object        \n",
      " 4   day         687534 non-null  datetime64[ns]\n",
      "dtypes: datetime64[ns](1), object(4)\n",
      "memory usage: 26.2+ MB\n"
     ]
    }
   ],
   "source": [
    "#convertir la colonne 'date' en datetime avec gestion des erreurs\n",
    "df_transactions['day'] = pd.to_datetime(df_transactions['day'])\n",
    "df_transactions.info()"
   ]
  },
  {
   "cell_type": "code",
   "execution_count": 87,
   "id": "9084e624",
   "metadata": {},
   "outputs": [
    {
     "data": {
      "text/html": [
       "<div>\n",
       "<style scoped>\n",
       "    .dataframe tbody tr th:only-of-type {\n",
       "        vertical-align: middle;\n",
       "    }\n",
       "\n",
       "    .dataframe tbody tr th {\n",
       "        vertical-align: top;\n",
       "    }\n",
       "\n",
       "    .dataframe thead th {\n",
       "        text-align: right;\n",
       "    }\n",
       "</style>\n",
       "<table border=\"1\" class=\"dataframe\">\n",
       "  <thead>\n",
       "    <tr style=\"text-align: right;\">\n",
       "      <th></th>\n",
       "      <th>id_prod</th>\n",
       "      <th>date</th>\n",
       "      <th>session_id</th>\n",
       "      <th>client_id</th>\n",
       "      <th>day</th>\n",
       "      <th>mounth</th>\n",
       "    </tr>\n",
       "  </thead>\n",
       "  <tbody>\n",
       "    <tr>\n",
       "      <th>0</th>\n",
       "      <td>0_1259</td>\n",
       "      <td>2021-03-01 00:01:07.843138</td>\n",
       "      <td>s_1</td>\n",
       "      <td>c_329</td>\n",
       "      <td>2021-03-01</td>\n",
       "      <td>2021-03</td>\n",
       "    </tr>\n",
       "    <tr>\n",
       "      <th>1</th>\n",
       "      <td>0_1390</td>\n",
       "      <td>2021-03-01 00:02:26.047414</td>\n",
       "      <td>s_2</td>\n",
       "      <td>c_664</td>\n",
       "      <td>2021-03-01</td>\n",
       "      <td>2021-03</td>\n",
       "    </tr>\n",
       "    <tr>\n",
       "      <th>2</th>\n",
       "      <td>0_1352</td>\n",
       "      <td>2021-03-01 00:02:38.311413</td>\n",
       "      <td>s_3</td>\n",
       "      <td>c_580</td>\n",
       "      <td>2021-03-01</td>\n",
       "      <td>2021-03</td>\n",
       "    </tr>\n",
       "    <tr>\n",
       "      <th>3</th>\n",
       "      <td>0_1458</td>\n",
       "      <td>2021-03-01 00:04:54.559692</td>\n",
       "      <td>s_4</td>\n",
       "      <td>c_7912</td>\n",
       "      <td>2021-03-01</td>\n",
       "      <td>2021-03</td>\n",
       "    </tr>\n",
       "    <tr>\n",
       "      <th>4</th>\n",
       "      <td>0_1358</td>\n",
       "      <td>2021-03-01 00:05:18.801198</td>\n",
       "      <td>s_5</td>\n",
       "      <td>c_2033</td>\n",
       "      <td>2021-03-01</td>\n",
       "      <td>2021-03</td>\n",
       "    </tr>\n",
       "  </tbody>\n",
       "</table>\n",
       "</div>"
      ],
      "text/plain": [
       "  id_prod                        date session_id client_id        day   mounth\n",
       "0  0_1259  2021-03-01 00:01:07.843138        s_1     c_329 2021-03-01  2021-03\n",
       "1  0_1390  2021-03-01 00:02:26.047414        s_2     c_664 2021-03-01  2021-03\n",
       "2  0_1352  2021-03-01 00:02:38.311413        s_3     c_580 2021-03-01  2021-03\n",
       "3  0_1458  2021-03-01 00:04:54.559692        s_4    c_7912 2021-03-01  2021-03\n",
       "4  0_1358  2021-03-01 00:05:18.801198        s_5    c_2033 2021-03-01  2021-03"
      ]
     },
     "execution_count": 87,
     "metadata": {},
     "output_type": "execute_result"
    }
   ],
   "source": [
    "#création d'une nouvelle colonne 'mounth' dans le DataFrame df_transactions\n",
    "df_transactions['mounth'] = df_transactions['day'].dt.strftime('%Y-%m')\n",
    "df_transactions.head()"
   ]
  },
  {
   "cell_type": "code",
   "execution_count": 88,
   "id": "7701c1d1",
   "metadata": {},
   "outputs": [
    {
     "data": {
      "text/plain": [
       "855"
      ]
     },
     "execution_count": 88,
     "metadata": {},
     "output_type": "execute_result"
    }
   ],
   "source": [
    "#calcul du nombre de lignes en double dans le DataFrame df_transactions en se basant sur les colonnes 'session_id', 'client_id', et 'id_prod'\n",
    "df_transactions.duplicated(subset=['session_id','client_id','id_prod']).sum()"
   ]
  },
  {
   "cell_type": "markdown",
   "id": "ac2a4757",
   "metadata": {},
   "source": [
    "<div style=\"border: 1px solid RGB(0,150,250);\" >\n",
    "<h2 style=\"margin: auto; padding: 20px; color: RGB(0,150,250); \">4 - Preparation des jointures des 3 dataframe</h3>\n",
    "</div>"
   ]
  },
  {
   "cell_type": "code",
   "execution_count": 89,
   "id": "13344ca8",
   "metadata": {},
   "outputs": [
    {
     "data": {
      "text/html": [
       "<div>\n",
       "<style scoped>\n",
       "    .dataframe tbody tr th:only-of-type {\n",
       "        vertical-align: middle;\n",
       "    }\n",
       "\n",
       "    .dataframe tbody tr th {\n",
       "        vertical-align: top;\n",
       "    }\n",
       "\n",
       "    .dataframe thead th {\n",
       "        text-align: right;\n",
       "    }\n",
       "</style>\n",
       "<table border=\"1\" class=\"dataframe\">\n",
       "  <thead>\n",
       "    <tr style=\"text-align: right;\">\n",
       "      <th></th>\n",
       "      <th>id_prod</th>\n",
       "      <th>date</th>\n",
       "      <th>session_id</th>\n",
       "      <th>client_id</th>\n",
       "      <th>day</th>\n",
       "      <th>mounth</th>\n",
       "      <th>genre</th>\n",
       "      <th>birth</th>\n",
       "      <th>age</th>\n",
       "      <th>merge_indicator</th>\n",
       "    </tr>\n",
       "  </thead>\n",
       "  <tbody>\n",
       "    <tr>\n",
       "      <th>0</th>\n",
       "      <td>0_1259</td>\n",
       "      <td>2021-03-01 00:01:07.843138</td>\n",
       "      <td>s_1</td>\n",
       "      <td>c_329</td>\n",
       "      <td>2021-03-01</td>\n",
       "      <td>2021-03</td>\n",
       "      <td>f</td>\n",
       "      <td>1967</td>\n",
       "      <td>56</td>\n",
       "      <td>both</td>\n",
       "    </tr>\n",
       "    <tr>\n",
       "      <th>1</th>\n",
       "      <td>1_498</td>\n",
       "      <td>2021-03-11 00:57:22.865244</td>\n",
       "      <td>s_4624</td>\n",
       "      <td>c_329</td>\n",
       "      <td>2021-03-11</td>\n",
       "      <td>2021-03</td>\n",
       "      <td>f</td>\n",
       "      <td>1967</td>\n",
       "      <td>56</td>\n",
       "      <td>both</td>\n",
       "    </tr>\n",
       "    <tr>\n",
       "      <th>2</th>\n",
       "      <td>0_1140</td>\n",
       "      <td>2021-03-16 10:01:30.705174</td>\n",
       "      <td>s_7071</td>\n",
       "      <td>c_329</td>\n",
       "      <td>2021-03-16</td>\n",
       "      <td>2021-03</td>\n",
       "      <td>f</td>\n",
       "      <td>1967</td>\n",
       "      <td>56</td>\n",
       "      <td>both</td>\n",
       "    </tr>\n",
       "    <tr>\n",
       "      <th>3</th>\n",
       "      <td>1_451</td>\n",
       "      <td>2021-03-18 17:26:18.887580</td>\n",
       "      <td>s_8134</td>\n",
       "      <td>c_329</td>\n",
       "      <td>2021-03-18</td>\n",
       "      <td>2021-03</td>\n",
       "      <td>f</td>\n",
       "      <td>1967</td>\n",
       "      <td>56</td>\n",
       "      <td>both</td>\n",
       "    </tr>\n",
       "    <tr>\n",
       "      <th>4</th>\n",
       "      <td>1_381</td>\n",
       "      <td>2021-04-25 13:26:06.218857</td>\n",
       "      <td>s_25561</td>\n",
       "      <td>c_329</td>\n",
       "      <td>2021-04-25</td>\n",
       "      <td>2021-04</td>\n",
       "      <td>f</td>\n",
       "      <td>1967</td>\n",
       "      <td>56</td>\n",
       "      <td>both</td>\n",
       "    </tr>\n",
       "  </tbody>\n",
       "</table>\n",
       "</div>"
      ],
      "text/plain": [
       "  id_prod                        date session_id client_id        day  \\\n",
       "0  0_1259  2021-03-01 00:01:07.843138        s_1     c_329 2021-03-01   \n",
       "1   1_498  2021-03-11 00:57:22.865244     s_4624     c_329 2021-03-11   \n",
       "2  0_1140  2021-03-16 10:01:30.705174     s_7071     c_329 2021-03-16   \n",
       "3   1_451  2021-03-18 17:26:18.887580     s_8134     c_329 2021-03-18   \n",
       "4   1_381  2021-04-25 13:26:06.218857    s_25561     c_329 2021-04-25   \n",
       "\n",
       "    mounth genre  birth  age merge_indicator  \n",
       "0  2021-03     f   1967   56            both  \n",
       "1  2021-03     f   1967   56            both  \n",
       "2  2021-03     f   1967   56            both  \n",
       "3  2021-03     f   1967   56            both  \n",
       "4  2021-04     f   1967   56            both  "
      ]
     },
     "execution_count": 89,
     "metadata": {},
     "output_type": "execute_result"
    }
   ],
   "source": [
    "#jointure à droite entre les 2 dataframe df_Transactions et df_customers suivant la colone 'client_id'\n",
    "df_transaction_customers= pd.merge(df_transactions,df_customers,on='client_id', how='outer',indicator='merge_indicator')\n",
    "df_transaction_customers.head()"
   ]
  },
  {
   "cell_type": "code",
   "execution_count": 90,
   "id": "10e6995e",
   "metadata": {},
   "outputs": [
    {
     "name": "stdout",
     "output_type": "stream",
     "text": [
      "<class 'pandas.core.frame.DataFrame'>\n",
      "Int64Index: 687555 entries, 0 to 687554\n",
      "Data columns (total 10 columns):\n",
      " #   Column           Non-Null Count   Dtype         \n",
      "---  ------           --------------   -----         \n",
      " 0   id_prod          687534 non-null  object        \n",
      " 1   date             687534 non-null  object        \n",
      " 2   session_id       687534 non-null  object        \n",
      " 3   client_id        687555 non-null  object        \n",
      " 4   day              687534 non-null  datetime64[ns]\n",
      " 5   mounth           687534 non-null  object        \n",
      " 6   genre            687555 non-null  object        \n",
      " 7   birth            687555 non-null  int64         \n",
      " 8   age              687555 non-null  int64         \n",
      " 9   merge_indicator  687555 non-null  category      \n",
      "dtypes: category(1), datetime64[ns](1), int64(2), object(6)\n",
      "memory usage: 53.1+ MB\n"
     ]
    }
   ],
   "source": [
    "#verification des nombres de lignes ,types et nombres de valeurs non-null pour chaque colonne\n",
    "df_transaction_customers.info()"
   ]
  },
  {
   "cell_type": "code",
   "execution_count": 91,
   "id": "608c31c8",
   "metadata": {},
   "outputs": [
    {
     "data": {
      "text/plain": [
       "['both', 'right_only']\n",
       "Categories (3, object): ['left_only', 'right_only', 'both']"
      ]
     },
     "execution_count": 91,
     "metadata": {},
     "output_type": "execute_result"
    }
   ],
   "source": [
    "#selection des différents merge_indicator \n",
    "df_transaction_customers['merge_indicator'].unique()"
   ]
  },
  {
   "cell_type": "code",
   "execution_count": 92,
   "id": "2b447d54",
   "metadata": {},
   "outputs": [
    {
     "data": {
      "text/plain": [
       "array(['c_8253', 'c_3789', 'c_4406', 'c_2706', 'c_3443', 'c_4447',\n",
       "       'c_3017', 'c_4086', 'c_6930', 'c_4358', 'c_8381', 'c_1223',\n",
       "       'c_6862', 'c_5245', 'c_5223', 'c_6735', 'c_862', 'c_7584', 'c_90',\n",
       "       'c_587', 'c_3526'], dtype=object)"
      ]
     },
     "execution_count": 92,
     "metadata": {},
     "output_type": "execute_result"
    }
   ],
   "source": [
    "#selection des lignes avec merge_indicator = 'right_only'\n",
    "df_transaction_customers[df_transaction_customers['merge_indicator'] == 'right_only' ].client_id.unique()"
   ]
  },
  {
   "cell_type": "code",
   "execution_count": 93,
   "id": "4b016340",
   "metadata": {},
   "outputs": [
    {
     "data": {
      "text/plain": [
       "21"
      ]
     },
     "execution_count": 93,
     "metadata": {},
     "output_type": "execute_result"
    }
   ],
   "source": [
    "#nombre des lignes avec merge_indicator = 'right_only'\n",
    "(df_transaction_customers['merge_indicator'] == 'right_only').sum()"
   ]
  },
  {
   "cell_type": "markdown",
   "id": "03f4b3e7",
   "metadata": {},
   "source": [
    "## ceci signifie qu'il y'a des clients qui n'achétent pas en ligne"
   ]
  },
  {
   "cell_type": "code",
   "execution_count": 94,
   "id": "c0243d17",
   "metadata": {},
   "outputs": [
    {
     "data": {
      "text/html": [
       "<div>\n",
       "<style scoped>\n",
       "    .dataframe tbody tr th:only-of-type {\n",
       "        vertical-align: middle;\n",
       "    }\n",
       "\n",
       "    .dataframe tbody tr th {\n",
       "        vertical-align: top;\n",
       "    }\n",
       "\n",
       "    .dataframe thead th {\n",
       "        text-align: right;\n",
       "    }\n",
       "</style>\n",
       "<table border=\"1\" class=\"dataframe\">\n",
       "  <thead>\n",
       "    <tr style=\"text-align: right;\">\n",
       "      <th></th>\n",
       "      <th>id_prod</th>\n",
       "      <th>date</th>\n",
       "      <th>session_id</th>\n",
       "      <th>client_id</th>\n",
       "      <th>day</th>\n",
       "      <th>mounth</th>\n",
       "      <th>genre</th>\n",
       "      <th>birth</th>\n",
       "      <th>age</th>\n",
       "      <th>merge_indicator</th>\n",
       "    </tr>\n",
       "  </thead>\n",
       "  <tbody>\n",
       "  </tbody>\n",
       "</table>\n",
       "</div>"
      ],
      "text/plain": [
       "Empty DataFrame\n",
       "Columns: [id_prod, date, session_id, client_id, day, mounth, genre, birth, age, merge_indicator]\n",
       "Index: []"
      ]
     },
     "execution_count": 94,
     "metadata": {},
     "output_type": "execute_result"
    }
   ],
   "source": [
    "#suppression des lignes avec merge_indicator = 'right_only'\n",
    "df_transaction_customers.drop(df_transaction_customers[df_transaction_customers['merge_indicator']=='right_only'].index,inplace=True)\n",
    "df_transaction_customers[df_transaction_customers['merge_indicator']=='right_only']"
   ]
  },
  {
   "cell_type": "code",
   "execution_count": 95,
   "id": "799c05df",
   "metadata": {},
   "outputs": [
    {
     "data": {
      "text/html": [
       "<div>\n",
       "<style scoped>\n",
       "    .dataframe tbody tr th:only-of-type {\n",
       "        vertical-align: middle;\n",
       "    }\n",
       "\n",
       "    .dataframe tbody tr th {\n",
       "        vertical-align: top;\n",
       "    }\n",
       "\n",
       "    .dataframe thead th {\n",
       "        text-align: right;\n",
       "    }\n",
       "</style>\n",
       "<table border=\"1\" class=\"dataframe\">\n",
       "  <thead>\n",
       "    <tr style=\"text-align: right;\">\n",
       "      <th></th>\n",
       "      <th>id_prod</th>\n",
       "      <th>date</th>\n",
       "      <th>session_id</th>\n",
       "      <th>client_id</th>\n",
       "      <th>day</th>\n",
       "      <th>mounth</th>\n",
       "      <th>genre</th>\n",
       "      <th>birth</th>\n",
       "      <th>age</th>\n",
       "      <th>merge_indicator</th>\n",
       "    </tr>\n",
       "  </thead>\n",
       "  <tbody>\n",
       "  </tbody>\n",
       "</table>\n",
       "</div>"
      ],
      "text/plain": [
       "Empty DataFrame\n",
       "Columns: [id_prod, date, session_id, client_id, day, mounth, genre, birth, age, merge_indicator]\n",
       "Index: []"
      ]
     },
     "execution_count": 95,
     "metadata": {},
     "output_type": "execute_result"
    }
   ],
   "source": [
    "#selection des lignes avec merge_indicator = 'left_only'\n",
    "df_transaction_customers[df_transaction_customers['merge_indicator'] == 'left_only' ]"
   ]
  },
  {
   "cell_type": "code",
   "execution_count": 96,
   "id": "505117f7",
   "metadata": {},
   "outputs": [
    {
     "data": {
      "text/html": [
       "<div>\n",
       "<style scoped>\n",
       "    .dataframe tbody tr th:only-of-type {\n",
       "        vertical-align: middle;\n",
       "    }\n",
       "\n",
       "    .dataframe tbody tr th {\n",
       "        vertical-align: top;\n",
       "    }\n",
       "\n",
       "    .dataframe thead th {\n",
       "        text-align: right;\n",
       "    }\n",
       "</style>\n",
       "<table border=\"1\" class=\"dataframe\">\n",
       "  <thead>\n",
       "    <tr style=\"text-align: right;\">\n",
       "      <th></th>\n",
       "      <th>id_prod</th>\n",
       "      <th>date</th>\n",
       "      <th>session_id</th>\n",
       "      <th>client_id</th>\n",
       "      <th>day</th>\n",
       "      <th>mounth</th>\n",
       "      <th>genre</th>\n",
       "      <th>birth</th>\n",
       "      <th>age</th>\n",
       "      <th>merge_indicator</th>\n",
       "      <th>price</th>\n",
       "      <th>categ</th>\n",
       "      <th>merge_indicator_2</th>\n",
       "    </tr>\n",
       "  </thead>\n",
       "  <tbody>\n",
       "    <tr>\n",
       "      <th>0</th>\n",
       "      <td>0_1259</td>\n",
       "      <td>2021-03-01 00:01:07.843138</td>\n",
       "      <td>s_1</td>\n",
       "      <td>c_329</td>\n",
       "      <td>2021-03-01</td>\n",
       "      <td>2021-03</td>\n",
       "      <td>f</td>\n",
       "      <td>1967.0</td>\n",
       "      <td>56.0</td>\n",
       "      <td>both</td>\n",
       "      <td>11.99</td>\n",
       "      <td>0</td>\n",
       "      <td>both</td>\n",
       "    </tr>\n",
       "    <tr>\n",
       "      <th>1</th>\n",
       "      <td>0_1259</td>\n",
       "      <td>2022-10-01 00:01:07.843138</td>\n",
       "      <td>s_275943</td>\n",
       "      <td>c_329</td>\n",
       "      <td>2022-10-01</td>\n",
       "      <td>2022-10</td>\n",
       "      <td>f</td>\n",
       "      <td>1967.0</td>\n",
       "      <td>56.0</td>\n",
       "      <td>both</td>\n",
       "      <td>11.99</td>\n",
       "      <td>0</td>\n",
       "      <td>both</td>\n",
       "    </tr>\n",
       "    <tr>\n",
       "      <th>2</th>\n",
       "      <td>0_1259</td>\n",
       "      <td>2022-12-01 00:01:07.843138</td>\n",
       "      <td>s_305291</td>\n",
       "      <td>c_329</td>\n",
       "      <td>2022-12-01</td>\n",
       "      <td>2022-12</td>\n",
       "      <td>f</td>\n",
       "      <td>1967.0</td>\n",
       "      <td>56.0</td>\n",
       "      <td>both</td>\n",
       "      <td>11.99</td>\n",
       "      <td>0</td>\n",
       "      <td>both</td>\n",
       "    </tr>\n",
       "    <tr>\n",
       "      <th>3</th>\n",
       "      <td>0_1259</td>\n",
       "      <td>2023-01-01 00:01:07.843138</td>\n",
       "      <td>s_320153</td>\n",
       "      <td>c_329</td>\n",
       "      <td>2023-01-01</td>\n",
       "      <td>2023-01</td>\n",
       "      <td>f</td>\n",
       "      <td>1967.0</td>\n",
       "      <td>56.0</td>\n",
       "      <td>both</td>\n",
       "      <td>11.99</td>\n",
       "      <td>0</td>\n",
       "      <td>both</td>\n",
       "    </tr>\n",
       "    <tr>\n",
       "      <th>4</th>\n",
       "      <td>0_1259</td>\n",
       "      <td>2021-03-04 07:26:01.343183</td>\n",
       "      <td>s_1519</td>\n",
       "      <td>c_1609</td>\n",
       "      <td>2021-03-04</td>\n",
       "      <td>2021-03</td>\n",
       "      <td>m</td>\n",
       "      <td>1980.0</td>\n",
       "      <td>43.0</td>\n",
       "      <td>both</td>\n",
       "      <td>11.99</td>\n",
       "      <td>0</td>\n",
       "      <td>both</td>\n",
       "    </tr>\n",
       "  </tbody>\n",
       "</table>\n",
       "</div>"
      ],
      "text/plain": [
       "  id_prod                        date session_id client_id        day  \\\n",
       "0  0_1259  2021-03-01 00:01:07.843138        s_1     c_329 2021-03-01   \n",
       "1  0_1259  2022-10-01 00:01:07.843138   s_275943     c_329 2022-10-01   \n",
       "2  0_1259  2022-12-01 00:01:07.843138   s_305291     c_329 2022-12-01   \n",
       "3  0_1259  2023-01-01 00:01:07.843138   s_320153     c_329 2023-01-01   \n",
       "4  0_1259  2021-03-04 07:26:01.343183     s_1519    c_1609 2021-03-04   \n",
       "\n",
       "    mounth genre   birth   age merge_indicator  price  categ merge_indicator_2  \n",
       "0  2021-03     f  1967.0  56.0            both  11.99      0              both  \n",
       "1  2022-10     f  1967.0  56.0            both  11.99      0              both  \n",
       "2  2022-12     f  1967.0  56.0            both  11.99      0              both  \n",
       "3  2023-01     f  1967.0  56.0            both  11.99      0              both  \n",
       "4  2021-03     m  1980.0  43.0            both  11.99      0              both  "
      ]
     },
     "execution_count": 96,
     "metadata": {},
     "output_type": "execute_result"
    }
   ],
   "source": [
    "#jointure externe entre les 2 dataframe Transaction_customers et df_products suivant la colone 'id_prod'\n",
    "df_total= pd.merge(df_transaction_customers,df_products,on='id_prod',how='outer',indicator='merge_indicator_2')\n",
    "df_total.head()"
   ]
  },
  {
   "cell_type": "code",
   "execution_count": 97,
   "id": "5dda526c",
   "metadata": {
    "scrolled": true
   },
   "outputs": [
    {
     "name": "stdout",
     "output_type": "stream",
     "text": [
      "<class 'pandas.core.frame.DataFrame'>\n",
      "Int64Index: 687555 entries, 0 to 687554\n",
      "Data columns (total 13 columns):\n",
      " #   Column             Non-Null Count   Dtype         \n",
      "---  ------             --------------   -----         \n",
      " 0   id_prod            687555 non-null  object        \n",
      " 1   date               687534 non-null  object        \n",
      " 2   session_id         687534 non-null  object        \n",
      " 3   client_id          687534 non-null  object        \n",
      " 4   day                687534 non-null  datetime64[ns]\n",
      " 5   mounth             687534 non-null  object        \n",
      " 6   genre              687534 non-null  object        \n",
      " 7   birth              687534 non-null  float64       \n",
      " 8   age                687534 non-null  float64       \n",
      " 9   merge_indicator    687534 non-null  category      \n",
      " 10  price              687555 non-null  float64       \n",
      " 11  categ              687555 non-null  int64         \n",
      " 12  merge_indicator_2  687555 non-null  category      \n",
      "dtypes: category(2), datetime64[ns](1), float64(3), int64(1), object(6)\n",
      "memory usage: 64.3+ MB\n"
     ]
    }
   ],
   "source": [
    "#verification des nobres de lignes ,types et nombre de valeurs non-null pour chaque colonnes\n",
    "df_total.info()"
   ]
  },
  {
   "cell_type": "code",
   "execution_count": 98,
   "id": "f388c807",
   "metadata": {},
   "outputs": [
    {
     "data": {
      "text/html": [
       "<div>\n",
       "<style scoped>\n",
       "    .dataframe tbody tr th:only-of-type {\n",
       "        vertical-align: middle;\n",
       "    }\n",
       "\n",
       "    .dataframe tbody tr th {\n",
       "        vertical-align: top;\n",
       "    }\n",
       "\n",
       "    .dataframe thead th {\n",
       "        text-align: right;\n",
       "    }\n",
       "</style>\n",
       "<table border=\"1\" class=\"dataframe\">\n",
       "  <thead>\n",
       "    <tr style=\"text-align: right;\">\n",
       "      <th></th>\n",
       "      <th>id_prod</th>\n",
       "      <th>date</th>\n",
       "      <th>session_id</th>\n",
       "      <th>client_id</th>\n",
       "      <th>day</th>\n",
       "      <th>mounth</th>\n",
       "      <th>genre</th>\n",
       "      <th>birth</th>\n",
       "      <th>age</th>\n",
       "      <th>merge_indicator</th>\n",
       "      <th>price</th>\n",
       "      <th>categ</th>\n",
       "      <th>merge_indicator_2</th>\n",
       "    </tr>\n",
       "  </thead>\n",
       "  <tbody>\n",
       "  </tbody>\n",
       "</table>\n",
       "</div>"
      ],
      "text/plain": [
       "Empty DataFrame\n",
       "Columns: [id_prod, date, session_id, client_id, day, mounth, genre, birth, age, merge_indicator, price, categ, merge_indicator_2]\n",
       "Index: []"
      ]
     },
     "execution_count": 98,
     "metadata": {},
     "output_type": "execute_result"
    }
   ],
   "source": [
    "#selection des lignes avec merge_indicator = 'left_only'\n",
    "df_total[df_total['merge_indicator_2'] == 'left_only' ]"
   ]
  },
  {
   "cell_type": "code",
   "execution_count": 99,
   "id": "d9fb798f",
   "metadata": {
    "scrolled": true
   },
   "outputs": [
    {
     "data": {
      "text/html": [
       "<div>\n",
       "<style scoped>\n",
       "    .dataframe tbody tr th:only-of-type {\n",
       "        vertical-align: middle;\n",
       "    }\n",
       "\n",
       "    .dataframe tbody tr th {\n",
       "        vertical-align: top;\n",
       "    }\n",
       "\n",
       "    .dataframe thead th {\n",
       "        text-align: right;\n",
       "    }\n",
       "</style>\n",
       "<table border=\"1\" class=\"dataframe\">\n",
       "  <thead>\n",
       "    <tr style=\"text-align: right;\">\n",
       "      <th></th>\n",
       "      <th>id_prod</th>\n",
       "      <th>date</th>\n",
       "      <th>session_id</th>\n",
       "      <th>client_id</th>\n",
       "      <th>day</th>\n",
       "      <th>mounth</th>\n",
       "      <th>genre</th>\n",
       "      <th>birth</th>\n",
       "      <th>age</th>\n",
       "      <th>merge_indicator</th>\n",
       "      <th>price</th>\n",
       "      <th>categ</th>\n",
       "      <th>merge_indicator_2</th>\n",
       "    </tr>\n",
       "  </thead>\n",
       "  <tbody>\n",
       "    <tr>\n",
       "      <th>687534</th>\n",
       "      <td>0_1016</td>\n",
       "      <td>NaN</td>\n",
       "      <td>NaN</td>\n",
       "      <td>NaN</td>\n",
       "      <td>NaT</td>\n",
       "      <td>NaN</td>\n",
       "      <td>NaN</td>\n",
       "      <td>NaN</td>\n",
       "      <td>NaN</td>\n",
       "      <td>NaN</td>\n",
       "      <td>35.06</td>\n",
       "      <td>0</td>\n",
       "      <td>right_only</td>\n",
       "    </tr>\n",
       "    <tr>\n",
       "      <th>687535</th>\n",
       "      <td>0_1780</td>\n",
       "      <td>NaN</td>\n",
       "      <td>NaN</td>\n",
       "      <td>NaN</td>\n",
       "      <td>NaT</td>\n",
       "      <td>NaN</td>\n",
       "      <td>NaN</td>\n",
       "      <td>NaN</td>\n",
       "      <td>NaN</td>\n",
       "      <td>NaN</td>\n",
       "      <td>1.67</td>\n",
       "      <td>0</td>\n",
       "      <td>right_only</td>\n",
       "    </tr>\n",
       "    <tr>\n",
       "      <th>687536</th>\n",
       "      <td>0_1062</td>\n",
       "      <td>NaN</td>\n",
       "      <td>NaN</td>\n",
       "      <td>NaN</td>\n",
       "      <td>NaT</td>\n",
       "      <td>NaN</td>\n",
       "      <td>NaN</td>\n",
       "      <td>NaN</td>\n",
       "      <td>NaN</td>\n",
       "      <td>NaN</td>\n",
       "      <td>20.08</td>\n",
       "      <td>0</td>\n",
       "      <td>right_only</td>\n",
       "    </tr>\n",
       "    <tr>\n",
       "      <th>687537</th>\n",
       "      <td>0_1119</td>\n",
       "      <td>NaN</td>\n",
       "      <td>NaN</td>\n",
       "      <td>NaN</td>\n",
       "      <td>NaT</td>\n",
       "      <td>NaN</td>\n",
       "      <td>NaN</td>\n",
       "      <td>NaN</td>\n",
       "      <td>NaN</td>\n",
       "      <td>NaN</td>\n",
       "      <td>2.99</td>\n",
       "      <td>0</td>\n",
       "      <td>right_only</td>\n",
       "    </tr>\n",
       "    <tr>\n",
       "      <th>687538</th>\n",
       "      <td>0_1014</td>\n",
       "      <td>NaN</td>\n",
       "      <td>NaN</td>\n",
       "      <td>NaN</td>\n",
       "      <td>NaT</td>\n",
       "      <td>NaN</td>\n",
       "      <td>NaN</td>\n",
       "      <td>NaN</td>\n",
       "      <td>NaN</td>\n",
       "      <td>NaN</td>\n",
       "      <td>1.15</td>\n",
       "      <td>0</td>\n",
       "      <td>right_only</td>\n",
       "    </tr>\n",
       "  </tbody>\n",
       "</table>\n",
       "</div>"
      ],
      "text/plain": [
       "       id_prod date session_id client_id day mounth genre  birth  age  \\\n",
       "687534  0_1016  NaN        NaN       NaN NaT    NaN   NaN    NaN  NaN   \n",
       "687535  0_1780  NaN        NaN       NaN NaT    NaN   NaN    NaN  NaN   \n",
       "687536  0_1062  NaN        NaN       NaN NaT    NaN   NaN    NaN  NaN   \n",
       "687537  0_1119  NaN        NaN       NaN NaT    NaN   NaN    NaN  NaN   \n",
       "687538  0_1014  NaN        NaN       NaN NaT    NaN   NaN    NaN  NaN   \n",
       "\n",
       "       merge_indicator  price  categ merge_indicator_2  \n",
       "687534             NaN  35.06      0        right_only  \n",
       "687535             NaN   1.67      0        right_only  \n",
       "687536             NaN  20.08      0        right_only  \n",
       "687537             NaN   2.99      0        right_only  \n",
       "687538             NaN   1.15      0        right_only  "
      ]
     },
     "execution_count": 99,
     "metadata": {},
     "output_type": "execute_result"
    }
   ],
   "source": [
    "#selection des lignes avec merge_indicator = 'right_only'\n",
    "df_total[df_total['merge_indicator_2'] == 'right_only' ].head()"
   ]
  },
  {
   "cell_type": "code",
   "execution_count": 100,
   "id": "45c34b91",
   "metadata": {},
   "outputs": [
    {
     "data": {
      "text/plain": [
       "21"
      ]
     },
     "execution_count": 100,
     "metadata": {},
     "output_type": "execute_result"
    }
   ],
   "source": [
    "#nombre des lignes avec merge_indicator = 'right_only'\n",
    "(df_total['merge_indicator_2'] == 'right_only').sum()"
   ]
  },
  {
   "cell_type": "markdown",
   "id": "1c430bef",
   "metadata": {},
   "source": [
    "## ceci signifie qu'il y'a des produits que personne ne les achéte "
   ]
  },
  {
   "cell_type": "code",
   "execution_count": 101,
   "id": "4cf0aafa",
   "metadata": {},
   "outputs": [
    {
     "data": {
      "text/html": [
       "<div>\n",
       "<style scoped>\n",
       "    .dataframe tbody tr th:only-of-type {\n",
       "        vertical-align: middle;\n",
       "    }\n",
       "\n",
       "    .dataframe tbody tr th {\n",
       "        vertical-align: top;\n",
       "    }\n",
       "\n",
       "    .dataframe thead th {\n",
       "        text-align: right;\n",
       "    }\n",
       "</style>\n",
       "<table border=\"1\" class=\"dataframe\">\n",
       "  <thead>\n",
       "    <tr style=\"text-align: right;\">\n",
       "      <th></th>\n",
       "      <th>id_prod</th>\n",
       "      <th>date</th>\n",
       "      <th>session_id</th>\n",
       "      <th>client_id</th>\n",
       "      <th>day</th>\n",
       "      <th>mounth</th>\n",
       "      <th>genre</th>\n",
       "      <th>birth</th>\n",
       "      <th>age</th>\n",
       "      <th>merge_indicator</th>\n",
       "      <th>price</th>\n",
       "      <th>categ</th>\n",
       "      <th>merge_indicator_2</th>\n",
       "    </tr>\n",
       "  </thead>\n",
       "  <tbody>\n",
       "  </tbody>\n",
       "</table>\n",
       "</div>"
      ],
      "text/plain": [
       "Empty DataFrame\n",
       "Columns: [id_prod, date, session_id, client_id, day, mounth, genre, birth, age, merge_indicator, price, categ, merge_indicator_2]\n",
       "Index: []"
      ]
     },
     "execution_count": 101,
     "metadata": {},
     "output_type": "execute_result"
    }
   ],
   "source": [
    "#suppression des lignes avec merge_indicator = 'right_only'\n",
    "df_total.drop(df_total[df_total['merge_indicator_2']=='right_only'].index,inplace=True)\n",
    "df_total[df_total['merge_indicator_2']=='right_only']"
   ]
  },
  {
   "cell_type": "code",
   "execution_count": 102,
   "id": "753eca4b",
   "metadata": {},
   "outputs": [
    {
     "data": {
      "text/html": [
       "<div>\n",
       "<style scoped>\n",
       "    .dataframe tbody tr th:only-of-type {\n",
       "        vertical-align: middle;\n",
       "    }\n",
       "\n",
       "    .dataframe tbody tr th {\n",
       "        vertical-align: top;\n",
       "    }\n",
       "\n",
       "    .dataframe thead th {\n",
       "        text-align: right;\n",
       "    }\n",
       "</style>\n",
       "<table border=\"1\" class=\"dataframe\">\n",
       "  <thead>\n",
       "    <tr style=\"text-align: right;\">\n",
       "      <th></th>\n",
       "      <th>id_prod</th>\n",
       "      <th>session_id</th>\n",
       "      <th>client_id</th>\n",
       "      <th>day</th>\n",
       "      <th>mounth</th>\n",
       "      <th>genre</th>\n",
       "      <th>age</th>\n",
       "      <th>price</th>\n",
       "      <th>categ</th>\n",
       "    </tr>\n",
       "  </thead>\n",
       "  <tbody>\n",
       "    <tr>\n",
       "      <th>0</th>\n",
       "      <td>0_1259</td>\n",
       "      <td>s_1</td>\n",
       "      <td>c_329</td>\n",
       "      <td>2021-03-01</td>\n",
       "      <td>2021-03</td>\n",
       "      <td>f</td>\n",
       "      <td>56.0</td>\n",
       "      <td>11.99</td>\n",
       "      <td>0</td>\n",
       "    </tr>\n",
       "    <tr>\n",
       "      <th>1</th>\n",
       "      <td>0_1259</td>\n",
       "      <td>s_275943</td>\n",
       "      <td>c_329</td>\n",
       "      <td>2022-10-01</td>\n",
       "      <td>2022-10</td>\n",
       "      <td>f</td>\n",
       "      <td>56.0</td>\n",
       "      <td>11.99</td>\n",
       "      <td>0</td>\n",
       "    </tr>\n",
       "    <tr>\n",
       "      <th>2</th>\n",
       "      <td>0_1259</td>\n",
       "      <td>s_305291</td>\n",
       "      <td>c_329</td>\n",
       "      <td>2022-12-01</td>\n",
       "      <td>2022-12</td>\n",
       "      <td>f</td>\n",
       "      <td>56.0</td>\n",
       "      <td>11.99</td>\n",
       "      <td>0</td>\n",
       "    </tr>\n",
       "    <tr>\n",
       "      <th>3</th>\n",
       "      <td>0_1259</td>\n",
       "      <td>s_320153</td>\n",
       "      <td>c_329</td>\n",
       "      <td>2023-01-01</td>\n",
       "      <td>2023-01</td>\n",
       "      <td>f</td>\n",
       "      <td>56.0</td>\n",
       "      <td>11.99</td>\n",
       "      <td>0</td>\n",
       "    </tr>\n",
       "    <tr>\n",
       "      <th>4</th>\n",
       "      <td>0_1259</td>\n",
       "      <td>s_1519</td>\n",
       "      <td>c_1609</td>\n",
       "      <td>2021-03-04</td>\n",
       "      <td>2021-03</td>\n",
       "      <td>m</td>\n",
       "      <td>43.0</td>\n",
       "      <td>11.99</td>\n",
       "      <td>0</td>\n",
       "    </tr>\n",
       "  </tbody>\n",
       "</table>\n",
       "</div>"
      ],
      "text/plain": [
       "  id_prod session_id client_id        day   mounth genre   age  price  categ\n",
       "0  0_1259        s_1     c_329 2021-03-01  2021-03     f  56.0  11.99      0\n",
       "1  0_1259   s_275943     c_329 2022-10-01  2022-10     f  56.0  11.99      0\n",
       "2  0_1259   s_305291     c_329 2022-12-01  2022-12     f  56.0  11.99      0\n",
       "3  0_1259   s_320153     c_329 2023-01-01  2023-01     f  56.0  11.99      0\n",
       "4  0_1259     s_1519    c_1609 2021-03-04  2021-03     m  43.0  11.99      0"
      ]
     },
     "execution_count": 102,
     "metadata": {},
     "output_type": "execute_result"
    }
   ],
   "source": [
    "#suppression des colonnes merge_indicator et merge_indicator_2\n",
    "df_total = df_total.drop(['merge_indicator', 'merge_indicator_2','birth','date'], axis=1)\n",
    "df_total.head()"
   ]
  },
  {
   "cell_type": "code",
   "execution_count": 103,
   "id": "f92a4ab2",
   "metadata": {},
   "outputs": [
    {
     "name": "stdout",
     "output_type": "stream",
     "text": [
      "<class 'pandas.core.frame.DataFrame'>\n",
      "Int64Index: 687534 entries, 0 to 687533\n",
      "Data columns (total 9 columns):\n",
      " #   Column      Non-Null Count   Dtype         \n",
      "---  ------      --------------   -----         \n",
      " 0   id_prod     687534 non-null  object        \n",
      " 1   session_id  687534 non-null  object        \n",
      " 2   client_id   687534 non-null  object        \n",
      " 3   day         687534 non-null  datetime64[ns]\n",
      " 4   mounth      687534 non-null  object        \n",
      " 5   genre       687534 non-null  object        \n",
      " 6   age         687534 non-null  float64       \n",
      " 7   price       687534 non-null  float64       \n",
      " 8   categ       687534 non-null  int64         \n",
      "dtypes: datetime64[ns](1), float64(2), int64(1), object(5)\n",
      "memory usage: 52.5+ MB\n"
     ]
    }
   ],
   "source": [
    "#verification des nombres de lignes ,types et nobre de valeurs non-null pour chaque colonne\n",
    "df_total.info()"
   ]
  },
  {
   "cell_type": "code",
   "execution_count": 104,
   "id": "9812c9b2",
   "metadata": {},
   "outputs": [],
   "source": [
    "#sauvegarde du DataFrame df_total au format CSV\n",
    "df_total.to_csv('df_total.csv',index=False)"
   ]
  },
  {
   "cell_type": "code",
   "execution_count": null,
   "id": "e82c0839",
   "metadata": {},
   "outputs": [],
   "source": []
  }
 ],
 "metadata": {
  "kernelspec": {
   "display_name": "Python 3 (ipykernel)",
   "language": "python",
   "name": "python3"
  },
  "language_info": {
   "codemirror_mode": {
    "name": "ipython",
    "version": 3
   },
   "file_extension": ".py",
   "mimetype": "text/x-python",
   "name": "python",
   "nbconvert_exporter": "python",
   "pygments_lexer": "ipython3",
   "version": "3.11.3"
  }
 },
 "nbformat": 4,
 "nbformat_minor": 5
}
